{
 "cells": [
  {
   "cell_type": "code",
   "execution_count": 2,
   "metadata": {},
   "outputs": [
    {
     "data": {
      "application/javascript": [
       "IPython.OutputArea.prototype._should_scroll = function(lines) { return false; }\n"
      ],
      "text/plain": [
       "<IPython.core.display.Javascript object>"
      ]
     },
     "metadata": {},
     "output_type": "display_data"
    }
   ],
   "source": [
    "%%javascript\n",
    "IPython.OutputArea.prototype._should_scroll = function(lines) { return false; }"
   ]
  },
  {
   "cell_type": "code",
   "execution_count": 9,
   "metadata": {},
   "outputs": [],
   "source": [
    "import os\n",
    "\n",
    "import pandas as pd\n",
    "from IPython.core.display import HTML\n",
    "\n",
    "from yaml_utils import get_yaml_data_from_branch_dir\n",
    "from pandas_utils import (\n",
    "    config_2_dataframe,\n",
    "    kpi_2_dataframes,\n",
    ")"
   ]
  },
  {
   "cell_type": "code",
   "execution_count": 30,
   "metadata": {},
   "outputs": [],
   "source": [
    "BRANCH_PATH = '/home/loc/nas_data/playsim/#2'\n",
    "# BRANCH_PATH = '/home/loc/nas_data/playsim/#4'\n",
    "# BRANCH_PATH = '/home/loc/nas_data/playsim/fix_double_stops'\n",
    "# BRANCH_PATH = '/home/loc/nas_data/playsim/line_order_loading'\n",
    "# BRANCH_PATH = '/home/loc/nas_data/playsim/master'\n",
    "# BRANCH_PATH = '/home/loc/nas_data/playsim/updated_excel'\n",
    "# BRANCH_PATH = '/home/loc/nas_data/playsim/use_config'\n",
    "\n",
    "OUTPUT_PATH = '/home/loc/projects/yaml_2_excel'\n",
    "EXCEL_FILE_NAME = 'playsim_yaml_compiled.xlsx'\n",
    "\n",
    "if not os.path.exists(OUTPUT_PATH):\n",
    "    os.makedirs(OUTPUT_PATH)\n",
    "EXCEL_PATH = os.path.join(OUTPUT_PATH, EXCEL_FILE_NAME)"
   ]
  },
  {
   "cell_type": "code",
   "execution_count": 31,
   "metadata": {},
   "outputs": [
    {
     "name": "stdout",
     "output_type": "stream",
     "text": [
      "LOADING BRANCH /home/loc/nas_data/playsim/#2/: START!\n",
      "\t[1] Reading .../20-10-06_veyna.justin_0/\n",
      "LOADING BRANCH /home/loc/nas_data/playsim/#2/: DONE!\n",
      "\n",
      "SAVING TO /home/loc/projects/yaml_2_excel/playsim_yaml_compiled.xlsx: START!\n"
     ]
    },
    {
     "data": {
      "text/html": [
       "<table border=\"1\" class=\"dataframe\">\n",
       "  <thead>\n",
       "    <tr style=\"text-align: right;\">\n",
       "      <th></th>\n",
       "      <th>case No.</th>\n",
       "      <th>all_fixed</th>\n",
       "      <th>berths_on</th>\n",
       "      <th>double_load_plugin</th>\n",
       "      <th>inv_file</th>\n",
       "      <th>order_file</th>\n",
       "      <th>order_plugin</th>\n",
       "      <th>preschedule_file</th>\n",
       "      <th>priority_plugin</th>\n",
       "      <th>same_day_avoidance_time</th>\n",
       "      <th>siphon_time_multiplier</th>\n",
       "      <th>step_count</th>\n",
       "      <th>swap_plugin</th>\n",
       "      <th>travel_time_buffer</th>\n",
       "      <th>version</th>\n",
       "    </tr>\n",
       "  </thead>\n",
       "  <tbody>\n",
       "    <tr>\n",
       "      <th>0</th>\n",
       "      <td>1</td>\n",
       "      <td>False</td>\n",
       "      <td>False</td>\n",
       "      <td>False</td>\n",
       "      <td>/Users/veyna.justin/opti/play_sim/playsim/consts/../../data/inv.yaml</td>\n",
       "      <td>/Users/veyna.justin/opti/play_sim/playsim/consts/../../data/orders.yaml</td>\n",
       "      <td>True</td>\n",
       "      <td>/Users/veyna.justin/opti/play_sim/playsim/consts/../../data/preschedule.yaml</td>\n",
       "      <td>True</td>\n",
       "      <td>15</td>\n",
       "      <td>1.3</td>\n",
       "      <td>50</td>\n",
       "      <td>False</td>\n",
       "      <td>2</td>\n",
       "      <td>2</td>\n",
       "    </tr>\n",
       "  </tbody>\n",
       "</table>"
      ],
      "text/plain": [
       "<IPython.core.display.HTML object>"
      ]
     },
     "metadata": {},
     "output_type": "display_data"
    },
    {
     "data": {
      "text/html": [
       "<table border=\"1\" class=\"dataframe\">\n",
       "  <thead>\n",
       "    <tr style=\"text-align: right;\">\n",
       "      <th></th>\n",
       "      <th>case No.</th>\n",
       "      <th>amt</th>\n",
       "      <th>cost</th>\n",
       "      <th>dist</th>\n",
       "      <th>empty_loading_dist</th>\n",
       "      <th>fuel_a_used</th>\n",
       "      <th>fuel_c_used</th>\n",
       "      <th>full_loading_dist</th>\n",
       "      <th>liter_yen</th>\n",
       "      <th>min_rem_steps</th>\n",
       "      <th>num_late</th>\n",
       "      <th>total_demand</th>\n",
       "    </tr>\n",
       "  </thead>\n",
       "  <tbody>\n",
       "    <tr>\n",
       "      <th>0</th>\n",
       "      <td>1</td>\n",
       "      <td>310761.428183</td>\n",
       "      <td>8.199564e+07</td>\n",
       "      <td>39510.719174</td>\n",
       "      <td>15813.519138</td>\n",
       "      <td>249.06544</td>\n",
       "      <td>1121.599419</td>\n",
       "      <td>15908.609123</td>\n",
       "      <td>3.789975</td>\n",
       "      <td>None</td>\n",
       "      <td>4</td>\n",
       "      <td>-567608.22</td>\n",
       "    </tr>\n",
       "  </tbody>\n",
       "</table>"
      ],
      "text/plain": [
       "<IPython.core.display.HTML object>"
      ]
     },
     "metadata": {},
     "output_type": "display_data"
    },
    {
     "data": {
      "text/html": [
       "<table border=\"1\" class=\"dataframe\">\n",
       "  <thead>\n",
       "    <tr style=\"text-align: right;\">\n",
       "      <th></th>\n",
       "      <th>case No.</th>\n",
       "      <th>5GO</th>\n",
       "      <th>7GO</th>\n",
       "      <th>FRN</th>\n",
       "      <th>GO</th>\n",
       "      <th>JET</th>\n",
       "      <th>KR</th>\n",
       "      <th>PG</th>\n",
       "      <th>PGA</th>\n",
       "      <th>RG</th>\n",
       "      <th>RLN</th>\n",
       "      <th>VP</th>\n",
       "    </tr>\n",
       "  </thead>\n",
       "  <tbody>\n",
       "    <tr>\n",
       "      <th>0</th>\n",
       "      <td>1</td>\n",
       "      <td>15600.0</td>\n",
       "      <td>6928.255969</td>\n",
       "      <td>6800.0</td>\n",
       "      <td>75915.297719</td>\n",
       "      <td>57010.698589</td>\n",
       "      <td>47688.006442</td>\n",
       "      <td>4986.381102</td>\n",
       "      <td>6000.0</td>\n",
       "      <td>82820.477615</td>\n",
       "      <td>6000.0</td>\n",
       "      <td>1012.310746</td>\n",
       "    </tr>\n",
       "  </tbody>\n",
       "</table>"
      ],
      "text/plain": [
       "<IPython.core.display.HTML object>"
      ]
     },
     "metadata": {},
     "output_type": "display_data"
    },
    {
     "data": {
      "text/html": [
       "<table border=\"1\" class=\"dataframe\">\n",
       "  <thead>\n",
       "    <tr style=\"text-align: right;\">\n",
       "      <th></th>\n",
       "      <th>case No.</th>\n",
       "      <th>7GO</th>\n",
       "      <th>GO</th>\n",
       "      <th>JET</th>\n",
       "      <th>KR</th>\n",
       "      <th>PG</th>\n",
       "      <th>RG</th>\n",
       "      <th>VP</th>\n",
       "    </tr>\n",
       "  </thead>\n",
       "  <tbody>\n",
       "    <tr>\n",
       "      <th>0</th>\n",
       "      <td>1</td>\n",
       "      <td>222.720097</td>\n",
       "      <td>3511.705344</td>\n",
       "      <td>7558.154711</td>\n",
       "      <td>8753.85749</td>\n",
       "      <td>882.0</td>\n",
       "      <td>15316.60718</td>\n",
       "      <td>269.0</td>\n",
       "    </tr>\n",
       "  </tbody>\n",
       "</table>"
      ],
      "text/plain": [
       "<IPython.core.display.HTML object>"
      ]
     },
     "metadata": {},
     "output_type": "display_data"
    },
    {
     "name": "stdout",
     "output_type": "stream",
     "text": [
      "SAVING TO /home/loc/projects/yaml_2_excel/playsim_yaml_compiled.xlsx: DONE!\n"
     ]
    }
   ],
   "source": [
    "yaml_data = get_yaml_data_from_branch_dir(BRANCH_PATH)\n",
    "\n",
    "if not yaml_data.is_empty():\n",
    "    df_config = config_2_dataframe(yaml_data.config)\n",
    "    df_kpi, df_shipment_amount, df_shipment_restriction = kpi_2_dataframes(yaml_data.kpi)\n",
    "\n",
    "    df_n_sheet_name = (\n",
    "        (df_config, '設定条件'),\n",
    "        (df_kpi, 'KPI'),\n",
    "        (df_shipment_amount, 'Shipment Amount'),\n",
    "        (df_shipment_restriction, 'Shipment Restriction'),\n",
    "    )\n",
    "\n",
    "    print(f'SAVING TO {EXCEL_PATH}: START!')\n",
    "    with pd.ExcelWriter(EXCEL_PATH) as writer:\n",
    "        for df, sheet_name in df_n_sheet_name:\n",
    "            if df is not None:\n",
    "                display(HTML(df.to_html()))\n",
    "                df.to_excel( writer, sheet_name=sheet_name, index=False)\n",
    "\n",
    "    print(f'SAVING TO {EXCEL_PATH}: DONE!')"
   ]
  },
  {
   "cell_type": "code",
   "execution_count": null,
   "metadata": {},
   "outputs": [],
   "source": []
  },
  {
   "cell_type": "code",
   "execution_count": null,
   "metadata": {},
   "outputs": [],
   "source": []
  },
  {
   "cell_type": "code",
   "execution_count": null,
   "metadata": {},
   "outputs": [],
   "source": []
  },
  {
   "cell_type": "code",
   "execution_count": null,
   "metadata": {},
   "outputs": [],
   "source": []
  }
 ],
 "metadata": {
  "kernelspec": {
   "display_name": "Python 3",
   "language": "python",
   "name": "python3"
  },
  "language_info": {
   "codemirror_mode": {
    "name": "ipython",
    "version": 3
   },
   "file_extension": ".py",
   "mimetype": "text/x-python",
   "name": "python",
   "nbconvert_exporter": "python",
   "pygments_lexer": "ipython3",
   "version": "3.6.9"
  }
 },
 "nbformat": 4,
 "nbformat_minor": 2
}
