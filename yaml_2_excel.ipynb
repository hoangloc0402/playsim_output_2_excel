{
 "cells": [
  {
   "cell_type": "code",
   "execution_count": 3,
   "metadata": {},
   "outputs": [],
   "source": [
    "import os\n",
    "from typing import Dict, List\n",
    "\n",
    "import pandas as pd\n",
    "from pprint import pprint\n",
    "\n",
    "from yaml_utils import (\n",
    "    get_yaml_data_from_exec_dir,\n",
    "    iterate_yaml_data_from_root,\n",
    ") \n",
    "from pandas_utils import (\n",
    "    config_2_dataframe,\n",
    "#     kpi_2_dataframe,\n",
    ") "
   ]
  },
  {
   "cell_type": "code",
   "execution_count": 11,
   "metadata": {},
   "outputs": [],
   "source": [
    "ROOT_PATH = '/home/loc/nas_data/playsim'\n",
    "OUTPUT_PATH = '/home/loc/playsim_output'\n",
    "EXCEL_FILE_NAME = 'output.xlsx'"
   ]
  },
  {
   "cell_type": "code",
   "execution_count": 12,
   "metadata": {},
   "outputs": [
    {
     "name": "stdout",
     "output_type": "stream",
     "text": [
      "LOADING FROM .../master/: START!\n",
      "LOADING FROM .../master/: DONE!\n",
      "SAVING TO .../master/output.xlsx: START!\n",
      "SAVING TO .../master/output.xlsx: DONE!\n"
     ]
    }
   ],
   "source": [
    "for exec_dir, yaml_data in iterate_yaml_data_from_root(ROOT_PATH):\n",
    "    df_config = config_2_dataframe(yaml_data.config)\n",
    "    \n",
    "    print(f'SAVING TO .../{exec_dir}/{EXCEL_FILE_NAME}: START!')\n",
    "\n",
    "    save_dir_path = os.path.join(OUTPUT_PATH, exec_dir, EXCEL_FILE_NAME)\n",
    "    if not os.path.exists(save_dir_path):\n",
    "        os.makedirs(save_dir_path)\n",
    "\n",
    "    excel_path = os.path.join(save_dir_path, EXCEL_FILE_NAME)\n",
    "    with pd.ExcelWriter(excel_path) as writer: \n",
    "        df_config.to_excel(writer, sheet_name='設定条件')\n",
    "\n",
    "    print(f'SAVING TO .../{exec_dir}/{EXCEL_FILE_NAME}: DONE!')\n",
    "    break"
   ]
  },
  {
   "cell_type": "code",
   "execution_count": null,
   "metadata": {},
   "outputs": [],
   "source": []
  },
  {
   "cell_type": "code",
   "execution_count": null,
   "metadata": {},
   "outputs": [],
   "source": []
  },
  {
   "cell_type": "code",
   "execution_count": null,
   "metadata": {},
   "outputs": [],
   "source": []
  },
  {
   "cell_type": "code",
   "execution_count": null,
   "metadata": {},
   "outputs": [],
   "source": []
  },
  {
   "cell_type": "code",
   "execution_count": 6,
   "metadata": {},
   "outputs": [
    {
     "name": "stdout",
     "output_type": "stream",
     "text": [
      "{'amt': 257227.81849714476,\n",
      " 'cost': 70661313.69234459,\n",
      " 'dist': 32908.578218121234,\n",
      " 'empty_loading_dist': 11713.023383034253,\n",
      " 'fuel_a_used': 232.9590268235511,\n",
      " 'fuel_c_used': 945.5168205639316,\n",
      " 'full_loading_dist': 13406.96392224525,\n",
      " 'kisei': {'7GO': 222.72009667397992,\n",
      "           'GO': 6296.295334787315,\n",
      "           'JET': 7558.154711403979,\n",
      "           'KR': 8023.506003897166,\n",
      "           'PG': 1628.0,\n",
      "           'RG': 17603.015715635727,\n",
      "           'VP': 269.0},\n",
      " 'kisei_detailed': {'NPIT': {'GO': 835.058},\n",
      "                    'TOT金沢': {'GO': 155.99999999999955},\n",
      "                    'TOT鹿児島': {'RG': 888.0},\n",
      "                    '八戸': {'RG': 85.0},\n",
      "                    '出光函館': {'7GO': 222.72009667397992},\n",
      "                    '出光塩釜': {'JET': 261.8362957537556},\n",
      "                    '出光岸和田': {'KR': 209.0, 'RG': 965.8686933167763},\n",
      "                    '出光広島': {'GO': 152.00000000000034},\n",
      "                    '出光新潟': {'JET': 470.0, 'RG': 2530.278831105103},\n",
      "                    '出光日立': {'GO': 720.0,\n",
      "                             'KR': 223.0555477237158,\n",
      "                             'RG': 2252.163816974994},\n",
      "                    '出光東京': {'GO': 783.8528952299203,\n",
      "                             'PG': 1628.0,\n",
      "                             'RG': 4029.664580838966},\n",
      "                    '出光沖縄': {'JET': 5894.999531638188},\n",
      "                    '出光石狩OT': {'KR': 2028.8257405329146},\n",
      "                    '出光福岡': {'GO': 583.8574482756376,\n",
      "                             'KR': 393.40315191812215,\n",
      "                             'RG': 452.78637660040476},\n",
      "                    '出光釧路': {'KR': 3396.2215637224135, 'RG': 3331.88008582012},\n",
      "                    '出光長崎': {'GO': 389.19099128175867},\n",
      "                    '出光高松': {'GO': 309.0, 'RG': 141.34333097936087},\n",
      "                    '出光高知': {'GO': 251.93700000000013},\n",
      "                    '出光鹿児島': {'JET': 651.3188840120347},\n",
      "                    '唐津': {'GO': 358.0},\n",
      "                    '塩釜': {'GO': 1440.0, 'RG': 1990.0},\n",
      "                    '昭友秋田': {'KR': 1773.0},\n",
      "                    '神戸': {'GO': 317.39899999999943,\n",
      "                           'RG': 167.02999999999975,\n",
      "                           'VP': 269.0},\n",
      "                    '苫小牧': {'JET': 280.0},\n",
      "                    '釧路共同（JX)': {'RG': 769.0}},\n",
      " 'liter_yen': 3.640292050287946,\n",
      " 'min_rem_steps': None,\n",
      " 'num_late': 3,\n",
      " 'per_oil_amt': {'5GO': 15600.0,\n",
      "                 '7GO': 6928.2559690183025,\n",
      "                 'FRN': 6800.0,\n",
      "                 'GO': 51672.70071945244,\n",
      "                 'JET': 49980.0,\n",
      "                 'KR': 38252.37499516059,\n",
      "                 'PG': 4098.38110238861,\n",
      "                 'PGA': 4000.0,\n",
      "                 'RG': 73205.22253252084,\n",
      "                 'RLN': 6000.0,\n",
      "                 'VP': 690.8831786039714},\n",
      " 'per_oil_demand': {'7GO': -11986.0,\n",
      "                    'GO': -130410.024,\n",
      "                    'JET': -52730.04,\n",
      "                    'KR': -152716.56600000002,\n",
      "                    'PG': -12465.99,\n",
      "                    'RG': -200514.6,\n",
      "                    'VP': -6785.0},\n",
      " 'total_demand': -567608.2200000001}\n"
     ]
    }
   ],
   "source": [
    "pprint(yaml_data.kpi[0])"
   ]
  },
  {
   "cell_type": "code",
   "execution_count": null,
   "metadata": {},
   "outputs": [],
   "source": []
  }
 ],
 "metadata": {
  "kernelspec": {
   "display_name": "Python 3",
   "language": "python",
   "name": "python3"
  },
  "language_info": {
   "codemirror_mode": {
    "name": "ipython",
    "version": 3
   },
   "file_extension": ".py",
   "mimetype": "text/x-python",
   "name": "python",
   "nbconvert_exporter": "python",
   "pygments_lexer": "ipython3",
   "version": "3.6.9"
  }
 },
 "nbformat": 4,
 "nbformat_minor": 2
}
